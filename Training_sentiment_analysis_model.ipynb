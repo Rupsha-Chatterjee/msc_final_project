{
  "nbformat": 4,
  "nbformat_minor": 0,
  "metadata": {
    "colab": {
      "provenance": [],
      "authorship_tag": "ABX9TyNIzhfioT6kd0lR51d8S2Uo",
      "include_colab_link": true
    },
    "kernelspec": {
      "name": "python3",
      "display_name": "Python 3"
    },
    "language_info": {
      "name": "python"
    }
  },
  "cells": [
    {
      "cell_type": "markdown",
      "metadata": {
        "id": "view-in-github",
        "colab_type": "text"
      },
      "source": [
        "<a href=\"https://colab.research.google.com/github/Rupsha-Chatterjee/msc_final_project/blob/main/Training_sentiment_analysis_model.ipynb\" target=\"_parent\"><img src=\"https://colab.research.google.com/assets/colab-badge.svg\" alt=\"Open In Colab\"/></a>"
      ]
    },
    {
      "cell_type": "markdown",
      "source": [
        "# **Import Necessary Packages**"
      ],
      "metadata": {
        "id": "SgvrsS1_pvJK"
      }
    },
    {
      "cell_type": "code",
      "execution_count": 1,
      "metadata": {
        "id": "0Njv37tV5BEl"
      },
      "outputs": [],
      "source": [
        "import pandas as pd  ## offers quick, adaptable, and expressive data structures\n",
        "import numpy as np  ## used to manipulate arrays\n",
        "import seaborn as sns  ## uses Matplotlib as its foundation to plot graphs and is used to see random distributions\n",
        "import matplotlib.pyplot as plt  ## a graphing library used for integrating charts\n",
        "from sklearn.model_selection import train_test_split\n",
        "from sklearn.metrics import accuracy_score\n",
        "from sklearn.metrics import classification_report  ## used to assess the accuracy of a classification algorithm's predictions. How many predictions are correct and how many are incorrect?\n",
        "import re  ## used to determine whether a given text fits a given regular expression\n",
        "import string\n",
        "import random\n",
        "#from collections import Counter\n",
        "#from wordcloud import WordCloud\n",
        "from nltk.stem import PorterStemmer\n",
        "from keras.utils import to_categorical\n",
        "from sklearn.metrics import confusion_matrix\n",
        "import tensorflow as tf\n",
        "from tensorflow.keras.preprocessing.text import Tokenizer\n",
        "from tensorflow.keras.preprocessing.sequence import pad_sequences\n",
        "from tensorflow.keras.layers import Embedding, LSTM, Dense, Bidirectional\n",
        "from tensorflow.keras.models import Sequential\n",
        "from tensorflow.keras.optimizers import Adam\n",
        "from tensorflow.keras.regularizers import l2"
      ]
    },
    {
      "cell_type": "markdown",
      "source": [
        "# **Load Data**"
      ],
      "metadata": {
        "id": "i6jUZI29p1AD"
      }
    },
    {
      "cell_type": "code",
      "source": [
        "train = pd.read_csv('/content/training.csv')\n",
        "test = pd.read_csv('/content/test.csv')\n",
        "validation = pd.read_csv('/content/validation.csv')"
      ],
      "metadata": {
        "id": "nPbT5BEe5tTj"
      },
      "execution_count": 2,
      "outputs": []
    },
    {
      "cell_type": "markdown",
      "source": [
        "# **Print first ten rows of the training dataset**"
      ],
      "metadata": {
        "id": "1v7HlJuWp53y"
      }
    },
    {
      "cell_type": "code",
      "source": [
        "train.head(10)"
      ],
      "metadata": {
        "colab": {
          "base_uri": "https://localhost:8080/",
          "height": 363
        },
        "id": "dAWwXNN26MTY",
        "outputId": "481b8172-80e2-4c54-84a1-93a7de8d795c"
      },
      "execution_count": 3,
      "outputs": [
        {
          "output_type": "execute_result",
          "data": {
            "text/plain": [
              "                                                text  label\n",
              "0                            i didnt feel humiliated      0\n",
              "1  i can go from feeling so hopeless to so damned...      0\n",
              "2   im grabbing a minute to post i feel greedy wrong      3\n",
              "3  i am ever feeling nostalgic about the fireplac...      2\n",
              "4                               i am feeling grouchy      3\n",
              "5  ive been feeling a little burdened lately wasn...      0\n",
              "6  ive been taking or milligrams or times recomme...      5\n",
              "7  i feel as confused about life as a teenager or...      4\n",
              "8  i have been with petronas for years i feel tha...      1\n",
              "9                                i feel romantic too      2"
            ],
            "text/html": [
              "\n",
              "  <div id=\"df-4c7d7369-911b-4f71-ae6d-9a610e41c329\" class=\"colab-df-container\">\n",
              "    <div>\n",
              "<style scoped>\n",
              "    .dataframe tbody tr th:only-of-type {\n",
              "        vertical-align: middle;\n",
              "    }\n",
              "\n",
              "    .dataframe tbody tr th {\n",
              "        vertical-align: top;\n",
              "    }\n",
              "\n",
              "    .dataframe thead th {\n",
              "        text-align: right;\n",
              "    }\n",
              "</style>\n",
              "<table border=\"1\" class=\"dataframe\">\n",
              "  <thead>\n",
              "    <tr style=\"text-align: right;\">\n",
              "      <th></th>\n",
              "      <th>text</th>\n",
              "      <th>label</th>\n",
              "    </tr>\n",
              "  </thead>\n",
              "  <tbody>\n",
              "    <tr>\n",
              "      <th>0</th>\n",
              "      <td>i didnt feel humiliated</td>\n",
              "      <td>0</td>\n",
              "    </tr>\n",
              "    <tr>\n",
              "      <th>1</th>\n",
              "      <td>i can go from feeling so hopeless to so damned...</td>\n",
              "      <td>0</td>\n",
              "    </tr>\n",
              "    <tr>\n",
              "      <th>2</th>\n",
              "      <td>im grabbing a minute to post i feel greedy wrong</td>\n",
              "      <td>3</td>\n",
              "    </tr>\n",
              "    <tr>\n",
              "      <th>3</th>\n",
              "      <td>i am ever feeling nostalgic about the fireplac...</td>\n",
              "      <td>2</td>\n",
              "    </tr>\n",
              "    <tr>\n",
              "      <th>4</th>\n",
              "      <td>i am feeling grouchy</td>\n",
              "      <td>3</td>\n",
              "    </tr>\n",
              "    <tr>\n",
              "      <th>5</th>\n",
              "      <td>ive been feeling a little burdened lately wasn...</td>\n",
              "      <td>0</td>\n",
              "    </tr>\n",
              "    <tr>\n",
              "      <th>6</th>\n",
              "      <td>ive been taking or milligrams or times recomme...</td>\n",
              "      <td>5</td>\n",
              "    </tr>\n",
              "    <tr>\n",
              "      <th>7</th>\n",
              "      <td>i feel as confused about life as a teenager or...</td>\n",
              "      <td>4</td>\n",
              "    </tr>\n",
              "    <tr>\n",
              "      <th>8</th>\n",
              "      <td>i have been with petronas for years i feel tha...</td>\n",
              "      <td>1</td>\n",
              "    </tr>\n",
              "    <tr>\n",
              "      <th>9</th>\n",
              "      <td>i feel romantic too</td>\n",
              "      <td>2</td>\n",
              "    </tr>\n",
              "  </tbody>\n",
              "</table>\n",
              "</div>\n",
              "    <div class=\"colab-df-buttons\">\n",
              "\n",
              "  <div class=\"colab-df-container\">\n",
              "    <button class=\"colab-df-convert\" onclick=\"convertToInteractive('df-4c7d7369-911b-4f71-ae6d-9a610e41c329')\"\n",
              "            title=\"Convert this dataframe to an interactive table.\"\n",
              "            style=\"display:none;\">\n",
              "\n",
              "  <svg xmlns=\"http://www.w3.org/2000/svg\" height=\"24px\" viewBox=\"0 -960 960 960\">\n",
              "    <path d=\"M120-120v-720h720v720H120Zm60-500h600v-160H180v160Zm220 220h160v-160H400v160Zm0 220h160v-160H400v160ZM180-400h160v-160H180v160Zm440 0h160v-160H620v160ZM180-180h160v-160H180v160Zm440 0h160v-160H620v160Z\"/>\n",
              "  </svg>\n",
              "    </button>\n",
              "\n",
              "  <style>\n",
              "    .colab-df-container {\n",
              "      display:flex;\n",
              "      gap: 12px;\n",
              "    }\n",
              "\n",
              "    .colab-df-convert {\n",
              "      background-color: #E8F0FE;\n",
              "      border: none;\n",
              "      border-radius: 50%;\n",
              "      cursor: pointer;\n",
              "      display: none;\n",
              "      fill: #1967D2;\n",
              "      height: 32px;\n",
              "      padding: 0 0 0 0;\n",
              "      width: 32px;\n",
              "    }\n",
              "\n",
              "    .colab-df-convert:hover {\n",
              "      background-color: #E2EBFA;\n",
              "      box-shadow: 0px 1px 2px rgba(60, 64, 67, 0.3), 0px 1px 3px 1px rgba(60, 64, 67, 0.15);\n",
              "      fill: #174EA6;\n",
              "    }\n",
              "\n",
              "    .colab-df-buttons div {\n",
              "      margin-bottom: 4px;\n",
              "    }\n",
              "\n",
              "    [theme=dark] .colab-df-convert {\n",
              "      background-color: #3B4455;\n",
              "      fill: #D2E3FC;\n",
              "    }\n",
              "\n",
              "    [theme=dark] .colab-df-convert:hover {\n",
              "      background-color: #434B5C;\n",
              "      box-shadow: 0px 1px 3px 1px rgba(0, 0, 0, 0.15);\n",
              "      filter: drop-shadow(0px 1px 2px rgba(0, 0, 0, 0.3));\n",
              "      fill: #FFFFFF;\n",
              "    }\n",
              "  </style>\n",
              "\n",
              "    <script>\n",
              "      const buttonEl =\n",
              "        document.querySelector('#df-4c7d7369-911b-4f71-ae6d-9a610e41c329 button.colab-df-convert');\n",
              "      buttonEl.style.display =\n",
              "        google.colab.kernel.accessAllowed ? 'block' : 'none';\n",
              "\n",
              "      async function convertToInteractive(key) {\n",
              "        const element = document.querySelector('#df-4c7d7369-911b-4f71-ae6d-9a610e41c329');\n",
              "        const dataTable =\n",
              "          await google.colab.kernel.invokeFunction('convertToInteractive',\n",
              "                                                    [key], {});\n",
              "        if (!dataTable) return;\n",
              "\n",
              "        const docLinkHtml = 'Like what you see? Visit the ' +\n",
              "          '<a target=\"_blank\" href=https://colab.research.google.com/notebooks/data_table.ipynb>data table notebook</a>'\n",
              "          + ' to learn more about interactive tables.';\n",
              "        element.innerHTML = '';\n",
              "        dataTable['output_type'] = 'display_data';\n",
              "        await google.colab.output.renderOutput(dataTable, element);\n",
              "        const docLink = document.createElement('div');\n",
              "        docLink.innerHTML = docLinkHtml;\n",
              "        element.appendChild(docLink);\n",
              "      }\n",
              "    </script>\n",
              "  </div>\n",
              "\n",
              "\n",
              "<div id=\"df-411bbffb-d1a5-494f-8fbc-56ccf8500572\">\n",
              "  <button class=\"colab-df-quickchart\" onclick=\"quickchart('df-411bbffb-d1a5-494f-8fbc-56ccf8500572')\"\n",
              "            title=\"Suggest charts\"\n",
              "            style=\"display:none;\">\n",
              "\n",
              "<svg xmlns=\"http://www.w3.org/2000/svg\" height=\"24px\"viewBox=\"0 0 24 24\"\n",
              "     width=\"24px\">\n",
              "    <g>\n",
              "        <path d=\"M19 3H5c-1.1 0-2 .9-2 2v14c0 1.1.9 2 2 2h14c1.1 0 2-.9 2-2V5c0-1.1-.9-2-2-2zM9 17H7v-7h2v7zm4 0h-2V7h2v10zm4 0h-2v-4h2v4z\"/>\n",
              "    </g>\n",
              "</svg>\n",
              "  </button>\n",
              "\n",
              "<style>\n",
              "  .colab-df-quickchart {\n",
              "      --bg-color: #E8F0FE;\n",
              "      --fill-color: #1967D2;\n",
              "      --hover-bg-color: #E2EBFA;\n",
              "      --hover-fill-color: #174EA6;\n",
              "      --disabled-fill-color: #AAA;\n",
              "      --disabled-bg-color: #DDD;\n",
              "  }\n",
              "\n",
              "  [theme=dark] .colab-df-quickchart {\n",
              "      --bg-color: #3B4455;\n",
              "      --fill-color: #D2E3FC;\n",
              "      --hover-bg-color: #434B5C;\n",
              "      --hover-fill-color: #FFFFFF;\n",
              "      --disabled-bg-color: #3B4455;\n",
              "      --disabled-fill-color: #666;\n",
              "  }\n",
              "\n",
              "  .colab-df-quickchart {\n",
              "    background-color: var(--bg-color);\n",
              "    border: none;\n",
              "    border-radius: 50%;\n",
              "    cursor: pointer;\n",
              "    display: none;\n",
              "    fill: var(--fill-color);\n",
              "    height: 32px;\n",
              "    padding: 0;\n",
              "    width: 32px;\n",
              "  }\n",
              "\n",
              "  .colab-df-quickchart:hover {\n",
              "    background-color: var(--hover-bg-color);\n",
              "    box-shadow: 0 1px 2px rgba(60, 64, 67, 0.3), 0 1px 3px 1px rgba(60, 64, 67, 0.15);\n",
              "    fill: var(--button-hover-fill-color);\n",
              "  }\n",
              "\n",
              "  .colab-df-quickchart-complete:disabled,\n",
              "  .colab-df-quickchart-complete:disabled:hover {\n",
              "    background-color: var(--disabled-bg-color);\n",
              "    fill: var(--disabled-fill-color);\n",
              "    box-shadow: none;\n",
              "  }\n",
              "\n",
              "  .colab-df-spinner {\n",
              "    border: 2px solid var(--fill-color);\n",
              "    border-color: transparent;\n",
              "    border-bottom-color: var(--fill-color);\n",
              "    animation:\n",
              "      spin 1s steps(1) infinite;\n",
              "  }\n",
              "\n",
              "  @keyframes spin {\n",
              "    0% {\n",
              "      border-color: transparent;\n",
              "      border-bottom-color: var(--fill-color);\n",
              "      border-left-color: var(--fill-color);\n",
              "    }\n",
              "    20% {\n",
              "      border-color: transparent;\n",
              "      border-left-color: var(--fill-color);\n",
              "      border-top-color: var(--fill-color);\n",
              "    }\n",
              "    30% {\n",
              "      border-color: transparent;\n",
              "      border-left-color: var(--fill-color);\n",
              "      border-top-color: var(--fill-color);\n",
              "      border-right-color: var(--fill-color);\n",
              "    }\n",
              "    40% {\n",
              "      border-color: transparent;\n",
              "      border-right-color: var(--fill-color);\n",
              "      border-top-color: var(--fill-color);\n",
              "    }\n",
              "    60% {\n",
              "      border-color: transparent;\n",
              "      border-right-color: var(--fill-color);\n",
              "    }\n",
              "    80% {\n",
              "      border-color: transparent;\n",
              "      border-right-color: var(--fill-color);\n",
              "      border-bottom-color: var(--fill-color);\n",
              "    }\n",
              "    90% {\n",
              "      border-color: transparent;\n",
              "      border-bottom-color: var(--fill-color);\n",
              "    }\n",
              "  }\n",
              "</style>\n",
              "\n",
              "  <script>\n",
              "    async function quickchart(key) {\n",
              "      const quickchartButtonEl =\n",
              "        document.querySelector('#' + key + ' button');\n",
              "      quickchartButtonEl.disabled = true;  // To prevent multiple clicks.\n",
              "      quickchartButtonEl.classList.add('colab-df-spinner');\n",
              "      try {\n",
              "        const charts = await google.colab.kernel.invokeFunction(\n",
              "            'suggestCharts', [key], {});\n",
              "      } catch (error) {\n",
              "        console.error('Error during call to suggestCharts:', error);\n",
              "      }\n",
              "      quickchartButtonEl.classList.remove('colab-df-spinner');\n",
              "      quickchartButtonEl.classList.add('colab-df-quickchart-complete');\n",
              "    }\n",
              "    (() => {\n",
              "      let quickchartButtonEl =\n",
              "        document.querySelector('#df-411bbffb-d1a5-494f-8fbc-56ccf8500572 button');\n",
              "      quickchartButtonEl.style.display =\n",
              "        google.colab.kernel.accessAllowed ? 'block' : 'none';\n",
              "    })();\n",
              "  </script>\n",
              "</div>\n",
              "\n",
              "    </div>\n",
              "  </div>\n"
            ],
            "application/vnd.google.colaboratory.intrinsic+json": {
              "type": "dataframe",
              "variable_name": "train",
              "summary": "{\n  \"name\": \"train\",\n  \"rows\": 16000,\n  \"fields\": [\n    {\n      \"column\": \"text\",\n      \"properties\": {\n        \"dtype\": \"string\",\n        \"num_unique_values\": 15969,\n        \"samples\": [\n          \"i feel rather imbicilic or at least complacent\",\n          \"i was in the bathroom i had sat down to pee it was to make me feel submissive again per instructions\",\n          \"i am thrilled with the way my skin and hair feel if you are like me you are skeptical\"\n        ],\n        \"semantic_type\": \"\",\n        \"description\": \"\"\n      }\n    },\n    {\n      \"column\": \"label\",\n      \"properties\": {\n        \"dtype\": \"number\",\n        \"std\": 1,\n        \"min\": 0,\n        \"max\": 5,\n        \"num_unique_values\": 6,\n        \"samples\": [\n          0,\n          3,\n          1\n        ],\n        \"semantic_type\": \"\",\n        \"description\": \"\"\n      }\n    }\n  ]\n}"
            }
          },
          "metadata": {},
          "execution_count": 3
        }
      ]
    },
    {
      "cell_type": "markdown",
      "source": [
        "# **Print the shape of all the datasets**"
      ],
      "metadata": {
        "id": "X4m0R8Y0qF1C"
      }
    },
    {
      "cell_type": "code",
      "source": [
        "train.shape, test.shape, validation.shape"
      ],
      "metadata": {
        "colab": {
          "base_uri": "https://localhost:8080/"
        },
        "id": "D18IIgqg6k2s",
        "outputId": "517b5f29-3741-473f-bff4-03b2198f7eed"
      },
      "execution_count": 4,
      "outputs": [
        {
          "output_type": "execute_result",
          "data": {
            "text/plain": [
              "((16000, 2), (2000, 2), (2000, 2))"
            ]
          },
          "metadata": {},
          "execution_count": 4
        }
      ]
    },
    {
      "cell_type": "markdown",
      "source": [
        "# **Add the label name column to the training dataset to see the different labels**"
      ],
      "metadata": {
        "id": "YFpQv4n_qR8E"
      }
    },
    {
      "cell_type": "markdown",
      "source": [
        "There are six different emotions: sadness (0), joy (1), love (2), anger (3), fear (4), and surprise (5)"
      ],
      "metadata": {
        "id": "CIuhhKXJqhOf"
      }
    },
    {
      "cell_type": "code",
      "source": [
        "labels_dict = {0:'sadness', 1:'joy', 2:'love', 3:'anger', 4:'fear', 5:'surprise'}\n",
        "train['label_name'] = train['label'].map(labels_dict)\n",
        "train.head(10)"
      ],
      "metadata": {
        "colab": {
          "base_uri": "https://localhost:8080/",
          "height": 363
        },
        "id": "4sgzf_MC-8x1",
        "outputId": "ae9ab236-1c08-4717-b1f7-63a752c594a0"
      },
      "execution_count": 5,
      "outputs": [
        {
          "output_type": "execute_result",
          "data": {
            "text/plain": [
              "                                                text  label label_name\n",
              "0                            i didnt feel humiliated      0    sadness\n",
              "1  i can go from feeling so hopeless to so damned...      0    sadness\n",
              "2   im grabbing a minute to post i feel greedy wrong      3      anger\n",
              "3  i am ever feeling nostalgic about the fireplac...      2       love\n",
              "4                               i am feeling grouchy      3      anger\n",
              "5  ive been feeling a little burdened lately wasn...      0    sadness\n",
              "6  ive been taking or milligrams or times recomme...      5   surprise\n",
              "7  i feel as confused about life as a teenager or...      4       fear\n",
              "8  i have been with petronas for years i feel tha...      1        joy\n",
              "9                                i feel romantic too      2       love"
            ],
            "text/html": [
              "\n",
              "  <div id=\"df-6d439a14-a9c5-41f7-9294-6c97081039ed\" class=\"colab-df-container\">\n",
              "    <div>\n",
              "<style scoped>\n",
              "    .dataframe tbody tr th:only-of-type {\n",
              "        vertical-align: middle;\n",
              "    }\n",
              "\n",
              "    .dataframe tbody tr th {\n",
              "        vertical-align: top;\n",
              "    }\n",
              "\n",
              "    .dataframe thead th {\n",
              "        text-align: right;\n",
              "    }\n",
              "</style>\n",
              "<table border=\"1\" class=\"dataframe\">\n",
              "  <thead>\n",
              "    <tr style=\"text-align: right;\">\n",
              "      <th></th>\n",
              "      <th>text</th>\n",
              "      <th>label</th>\n",
              "      <th>label_name</th>\n",
              "    </tr>\n",
              "  </thead>\n",
              "  <tbody>\n",
              "    <tr>\n",
              "      <th>0</th>\n",
              "      <td>i didnt feel humiliated</td>\n",
              "      <td>0</td>\n",
              "      <td>sadness</td>\n",
              "    </tr>\n",
              "    <tr>\n",
              "      <th>1</th>\n",
              "      <td>i can go from feeling so hopeless to so damned...</td>\n",
              "      <td>0</td>\n",
              "      <td>sadness</td>\n",
              "    </tr>\n",
              "    <tr>\n",
              "      <th>2</th>\n",
              "      <td>im grabbing a minute to post i feel greedy wrong</td>\n",
              "      <td>3</td>\n",
              "      <td>anger</td>\n",
              "    </tr>\n",
              "    <tr>\n",
              "      <th>3</th>\n",
              "      <td>i am ever feeling nostalgic about the fireplac...</td>\n",
              "      <td>2</td>\n",
              "      <td>love</td>\n",
              "    </tr>\n",
              "    <tr>\n",
              "      <th>4</th>\n",
              "      <td>i am feeling grouchy</td>\n",
              "      <td>3</td>\n",
              "      <td>anger</td>\n",
              "    </tr>\n",
              "    <tr>\n",
              "      <th>5</th>\n",
              "      <td>ive been feeling a little burdened lately wasn...</td>\n",
              "      <td>0</td>\n",
              "      <td>sadness</td>\n",
              "    </tr>\n",
              "    <tr>\n",
              "      <th>6</th>\n",
              "      <td>ive been taking or milligrams or times recomme...</td>\n",
              "      <td>5</td>\n",
              "      <td>surprise</td>\n",
              "    </tr>\n",
              "    <tr>\n",
              "      <th>7</th>\n",
              "      <td>i feel as confused about life as a teenager or...</td>\n",
              "      <td>4</td>\n",
              "      <td>fear</td>\n",
              "    </tr>\n",
              "    <tr>\n",
              "      <th>8</th>\n",
              "      <td>i have been with petronas for years i feel tha...</td>\n",
              "      <td>1</td>\n",
              "      <td>joy</td>\n",
              "    </tr>\n",
              "    <tr>\n",
              "      <th>9</th>\n",
              "      <td>i feel romantic too</td>\n",
              "      <td>2</td>\n",
              "      <td>love</td>\n",
              "    </tr>\n",
              "  </tbody>\n",
              "</table>\n",
              "</div>\n",
              "    <div class=\"colab-df-buttons\">\n",
              "\n",
              "  <div class=\"colab-df-container\">\n",
              "    <button class=\"colab-df-convert\" onclick=\"convertToInteractive('df-6d439a14-a9c5-41f7-9294-6c97081039ed')\"\n",
              "            title=\"Convert this dataframe to an interactive table.\"\n",
              "            style=\"display:none;\">\n",
              "\n",
              "  <svg xmlns=\"http://www.w3.org/2000/svg\" height=\"24px\" viewBox=\"0 -960 960 960\">\n",
              "    <path d=\"M120-120v-720h720v720H120Zm60-500h600v-160H180v160Zm220 220h160v-160H400v160Zm0 220h160v-160H400v160ZM180-400h160v-160H180v160Zm440 0h160v-160H620v160ZM180-180h160v-160H180v160Zm440 0h160v-160H620v160Z\"/>\n",
              "  </svg>\n",
              "    </button>\n",
              "\n",
              "  <style>\n",
              "    .colab-df-container {\n",
              "      display:flex;\n",
              "      gap: 12px;\n",
              "    }\n",
              "\n",
              "    .colab-df-convert {\n",
              "      background-color: #E8F0FE;\n",
              "      border: none;\n",
              "      border-radius: 50%;\n",
              "      cursor: pointer;\n",
              "      display: none;\n",
              "      fill: #1967D2;\n",
              "      height: 32px;\n",
              "      padding: 0 0 0 0;\n",
              "      width: 32px;\n",
              "    }\n",
              "\n",
              "    .colab-df-convert:hover {\n",
              "      background-color: #E2EBFA;\n",
              "      box-shadow: 0px 1px 2px rgba(60, 64, 67, 0.3), 0px 1px 3px 1px rgba(60, 64, 67, 0.15);\n",
              "      fill: #174EA6;\n",
              "    }\n",
              "\n",
              "    .colab-df-buttons div {\n",
              "      margin-bottom: 4px;\n",
              "    }\n",
              "\n",
              "    [theme=dark] .colab-df-convert {\n",
              "      background-color: #3B4455;\n",
              "      fill: #D2E3FC;\n",
              "    }\n",
              "\n",
              "    [theme=dark] .colab-df-convert:hover {\n",
              "      background-color: #434B5C;\n",
              "      box-shadow: 0px 1px 3px 1px rgba(0, 0, 0, 0.15);\n",
              "      filter: drop-shadow(0px 1px 2px rgba(0, 0, 0, 0.3));\n",
              "      fill: #FFFFFF;\n",
              "    }\n",
              "  </style>\n",
              "\n",
              "    <script>\n",
              "      const buttonEl =\n",
              "        document.querySelector('#df-6d439a14-a9c5-41f7-9294-6c97081039ed button.colab-df-convert');\n",
              "      buttonEl.style.display =\n",
              "        google.colab.kernel.accessAllowed ? 'block' : 'none';\n",
              "\n",
              "      async function convertToInteractive(key) {\n",
              "        const element = document.querySelector('#df-6d439a14-a9c5-41f7-9294-6c97081039ed');\n",
              "        const dataTable =\n",
              "          await google.colab.kernel.invokeFunction('convertToInteractive',\n",
              "                                                    [key], {});\n",
              "        if (!dataTable) return;\n",
              "\n",
              "        const docLinkHtml = 'Like what you see? Visit the ' +\n",
              "          '<a target=\"_blank\" href=https://colab.research.google.com/notebooks/data_table.ipynb>data table notebook</a>'\n",
              "          + ' to learn more about interactive tables.';\n",
              "        element.innerHTML = '';\n",
              "        dataTable['output_type'] = 'display_data';\n",
              "        await google.colab.output.renderOutput(dataTable, element);\n",
              "        const docLink = document.createElement('div');\n",
              "        docLink.innerHTML = docLinkHtml;\n",
              "        element.appendChild(docLink);\n",
              "      }\n",
              "    </script>\n",
              "  </div>\n",
              "\n",
              "\n",
              "<div id=\"df-a1b485b4-a521-4f75-8892-b41db9c90dfe\">\n",
              "  <button class=\"colab-df-quickchart\" onclick=\"quickchart('df-a1b485b4-a521-4f75-8892-b41db9c90dfe')\"\n",
              "            title=\"Suggest charts\"\n",
              "            style=\"display:none;\">\n",
              "\n",
              "<svg xmlns=\"http://www.w3.org/2000/svg\" height=\"24px\"viewBox=\"0 0 24 24\"\n",
              "     width=\"24px\">\n",
              "    <g>\n",
              "        <path d=\"M19 3H5c-1.1 0-2 .9-2 2v14c0 1.1.9 2 2 2h14c1.1 0 2-.9 2-2V5c0-1.1-.9-2-2-2zM9 17H7v-7h2v7zm4 0h-2V7h2v10zm4 0h-2v-4h2v4z\"/>\n",
              "    </g>\n",
              "</svg>\n",
              "  </button>\n",
              "\n",
              "<style>\n",
              "  .colab-df-quickchart {\n",
              "      --bg-color: #E8F0FE;\n",
              "      --fill-color: #1967D2;\n",
              "      --hover-bg-color: #E2EBFA;\n",
              "      --hover-fill-color: #174EA6;\n",
              "      --disabled-fill-color: #AAA;\n",
              "      --disabled-bg-color: #DDD;\n",
              "  }\n",
              "\n",
              "  [theme=dark] .colab-df-quickchart {\n",
              "      --bg-color: #3B4455;\n",
              "      --fill-color: #D2E3FC;\n",
              "      --hover-bg-color: #434B5C;\n",
              "      --hover-fill-color: #FFFFFF;\n",
              "      --disabled-bg-color: #3B4455;\n",
              "      --disabled-fill-color: #666;\n",
              "  }\n",
              "\n",
              "  .colab-df-quickchart {\n",
              "    background-color: var(--bg-color);\n",
              "    border: none;\n",
              "    border-radius: 50%;\n",
              "    cursor: pointer;\n",
              "    display: none;\n",
              "    fill: var(--fill-color);\n",
              "    height: 32px;\n",
              "    padding: 0;\n",
              "    width: 32px;\n",
              "  }\n",
              "\n",
              "  .colab-df-quickchart:hover {\n",
              "    background-color: var(--hover-bg-color);\n",
              "    box-shadow: 0 1px 2px rgba(60, 64, 67, 0.3), 0 1px 3px 1px rgba(60, 64, 67, 0.15);\n",
              "    fill: var(--button-hover-fill-color);\n",
              "  }\n",
              "\n",
              "  .colab-df-quickchart-complete:disabled,\n",
              "  .colab-df-quickchart-complete:disabled:hover {\n",
              "    background-color: var(--disabled-bg-color);\n",
              "    fill: var(--disabled-fill-color);\n",
              "    box-shadow: none;\n",
              "  }\n",
              "\n",
              "  .colab-df-spinner {\n",
              "    border: 2px solid var(--fill-color);\n",
              "    border-color: transparent;\n",
              "    border-bottom-color: var(--fill-color);\n",
              "    animation:\n",
              "      spin 1s steps(1) infinite;\n",
              "  }\n",
              "\n",
              "  @keyframes spin {\n",
              "    0% {\n",
              "      border-color: transparent;\n",
              "      border-bottom-color: var(--fill-color);\n",
              "      border-left-color: var(--fill-color);\n",
              "    }\n",
              "    20% {\n",
              "      border-color: transparent;\n",
              "      border-left-color: var(--fill-color);\n",
              "      border-top-color: var(--fill-color);\n",
              "    }\n",
              "    30% {\n",
              "      border-color: transparent;\n",
              "      border-left-color: var(--fill-color);\n",
              "      border-top-color: var(--fill-color);\n",
              "      border-right-color: var(--fill-color);\n",
              "    }\n",
              "    40% {\n",
              "      border-color: transparent;\n",
              "      border-right-color: var(--fill-color);\n",
              "      border-top-color: var(--fill-color);\n",
              "    }\n",
              "    60% {\n",
              "      border-color: transparent;\n",
              "      border-right-color: var(--fill-color);\n",
              "    }\n",
              "    80% {\n",
              "      border-color: transparent;\n",
              "      border-right-color: var(--fill-color);\n",
              "      border-bottom-color: var(--fill-color);\n",
              "    }\n",
              "    90% {\n",
              "      border-color: transparent;\n",
              "      border-bottom-color: var(--fill-color);\n",
              "    }\n",
              "  }\n",
              "</style>\n",
              "\n",
              "  <script>\n",
              "    async function quickchart(key) {\n",
              "      const quickchartButtonEl =\n",
              "        document.querySelector('#' + key + ' button');\n",
              "      quickchartButtonEl.disabled = true;  // To prevent multiple clicks.\n",
              "      quickchartButtonEl.classList.add('colab-df-spinner');\n",
              "      try {\n",
              "        const charts = await google.colab.kernel.invokeFunction(\n",
              "            'suggestCharts', [key], {});\n",
              "      } catch (error) {\n",
              "        console.error('Error during call to suggestCharts:', error);\n",
              "      }\n",
              "      quickchartButtonEl.classList.remove('colab-df-spinner');\n",
              "      quickchartButtonEl.classList.add('colab-df-quickchart-complete');\n",
              "    }\n",
              "    (() => {\n",
              "      let quickchartButtonEl =\n",
              "        document.querySelector('#df-a1b485b4-a521-4f75-8892-b41db9c90dfe button');\n",
              "      quickchartButtonEl.style.display =\n",
              "        google.colab.kernel.accessAllowed ? 'block' : 'none';\n",
              "    })();\n",
              "  </script>\n",
              "</div>\n",
              "\n",
              "    </div>\n",
              "  </div>\n"
            ],
            "application/vnd.google.colaboratory.intrinsic+json": {
              "type": "dataframe",
              "variable_name": "train",
              "summary": "{\n  \"name\": \"train\",\n  \"rows\": 16000,\n  \"fields\": [\n    {\n      \"column\": \"text\",\n      \"properties\": {\n        \"dtype\": \"string\",\n        \"num_unique_values\": 15969,\n        \"samples\": [\n          \"i feel rather imbicilic or at least complacent\",\n          \"i was in the bathroom i had sat down to pee it was to make me feel submissive again per instructions\",\n          \"i am thrilled with the way my skin and hair feel if you are like me you are skeptical\"\n        ],\n        \"semantic_type\": \"\",\n        \"description\": \"\"\n      }\n    },\n    {\n      \"column\": \"label\",\n      \"properties\": {\n        \"dtype\": \"number\",\n        \"std\": 1,\n        \"min\": 0,\n        \"max\": 5,\n        \"num_unique_values\": 6,\n        \"samples\": [\n          0,\n          3,\n          1\n        ],\n        \"semantic_type\": \"\",\n        \"description\": \"\"\n      }\n    },\n    {\n      \"column\": \"label_name\",\n      \"properties\": {\n        \"dtype\": \"category\",\n        \"num_unique_values\": 6,\n        \"samples\": [\n          \"sadness\",\n          \"anger\",\n          \"joy\"\n        ],\n        \"semantic_type\": \"\",\n        \"description\": \"\"\n      }\n    }\n  ]\n}"
            }
          },
          "metadata": {},
          "execution_count": 5
        }
      ]
    },
    {
      "cell_type": "markdown",
      "source": [
        "# **Group the data by the label name and check how many data shows each of the six emotions**"
      ],
      "metadata": {
        "id": "PzIZcDlmqwmS"
      }
    },
    {
      "cell_type": "code",
      "source": [
        "train.groupby([\"label_name\",\"label\"]).size()"
      ],
      "metadata": {
        "colab": {
          "base_uri": "https://localhost:8080/"
        },
        "id": "Ypb7yFgc_Imw",
        "outputId": "c2124ea0-96fc-4575-e68b-6f3ea6193d7c"
      },
      "execution_count": 6,
      "outputs": [
        {
          "output_type": "execute_result",
          "data": {
            "text/plain": [
              "label_name  label\n",
              "anger       3        2159\n",
              "fear        4        1937\n",
              "joy         1        5362\n",
              "love        2        1304\n",
              "sadness     0        4666\n",
              "surprise    5         572\n",
              "dtype: int64"
            ]
          },
          "metadata": {},
          "execution_count": 6
        }
      ]
    },
    {
      "cell_type": "markdown",
      "source": [
        "As we can see, we have 2159 data that shows anger, 1937 data that shows fear, 5362 data that shows joy, 1304 data that shows love, 4666 data that shows sadness and 572 data that shows surprise."
      ],
      "metadata": {
        "id": "I9FFq4XDrDif"
      }
    },
    {
      "cell_type": "markdown",
      "source": [
        "# **Print a bar chart of the above count**"
      ],
      "metadata": {
        "id": "X2B8bh5gruOV"
      }
    },
    {
      "cell_type": "code",
      "source": [
        "train[\"label_name\"].value_counts().plot(kind='bar',color=['yellow', '#0c0d49', '#b82f2f', '#331e1e', 'red','#00fff7'])"
      ],
      "metadata": {
        "colab": {
          "base_uri": "https://localhost:8080/",
          "height": 510
        },
        "id": "ii_Bj_pk_OsK",
        "outputId": "6f9f3b38-0f3d-4e1a-b99a-765b7f9ff25b"
      },
      "execution_count": 7,
      "outputs": [
        {
          "output_type": "execute_result",
          "data": {
            "text/plain": [
              "<Axes: xlabel='label_name'>"
            ]
          },
          "metadata": {},
          "execution_count": 7
        },
        {
          "output_type": "display_data",
          "data": {
            "text/plain": [
              "<Figure size 640x480 with 1 Axes>"
            ],
            "image/png": "[encoded data removed]"
          },
          "metadata": {}
        }
      ]
    },
    {
      "cell_type": "markdown",
      "source": [
        "# **Check for presence of null values in dataset**"
      ],
      "metadata": {
        "id": "dzzHKHuJr2ZN"
      }
    },
    {
      "cell_type": "code",
      "source": [
        "print(train.isnull().sum())\n",
        "print(validation.isnull().sum())\n",
        "print(test.isnull().sum())"
      ],
      "metadata": {
        "colab": {
          "base_uri": "https://localhost:8080/"
        },
        "id": "NCs2rpPS_mHR",
        "outputId": "019edb1b-713a-4661-9baa-b08e26ef0569"
      },
      "execution_count": 8,
      "outputs": [
        {
          "output_type": "stream",
          "name": "stdout",
          "text": [
            "text          0\n",
            "label         0\n",
            "label_name    0\n",
            "dtype: int64\n",
            "text     0\n",
            "label    0\n",
            "dtype: int64\n",
            "text     0\n",
            "label    0\n",
            "dtype: int64\n"
          ]
        }
      ]
    },
    {
      "cell_type": "markdown",
      "source": [
        "As we can see, we have no null values."
      ],
      "metadata": {
        "id": "S8QTki2Vr8R0"
      }
    },
    {
      "cell_type": "markdown",
      "source": [
        "# **Clean the dataset**"
      ],
      "metadata": {
        "id": "puy5fZXpsuiJ"
      }
    },
    {
      "cell_type": "code",
      "source": [
        "def wordopt (text):\n",
        "  text = text.lower()\n",
        "  text = re.sub ('\\[*?\\]', '', text)\n",
        "  text= re.sub(\"\\\\W\", \" \", text)\n",
        "  text = re.sub('https?://\\S+ |www\\.\\S+', '', text)\n",
        "  text = re.sub('<.*?>+', '', text)\n",
        "  text = re.sub('[%s]' % re.escape(string.punctuation), '', text)\n",
        "  text = re.sub('\\n', '', text)\n",
        "  text = re.sub('\\w\\d\\w*', '', text)\n",
        "  return text"
      ],
      "metadata": {
        "id": "0uTiNzWf7Exe"
      },
      "execution_count": 9,
      "outputs": []
    },
    {
      "cell_type": "code",
      "source": [
        "train['text'] = train['text'].apply(wordopt)\n",
        "x = train['text']\n",
        "y = train['label']"
      ],
      "metadata": {
        "id": "5NQzshcK7wnd"
      },
      "execution_count": 10,
      "outputs": []
    },
    {
      "cell_type": "code",
      "source": [
        "test['text'] = test['text'].apply(wordopt)\n",
        "x1 = test['text']\n",
        "y1 = test['label']"
      ],
      "metadata": {
        "id": "iYqi6UfyDphP"
      },
      "execution_count": 11,
      "outputs": []
    },
    {
      "cell_type": "code",
      "source": [
        "validation['text'] = validation['text'].apply(wordopt)\n",
        "x2 = validation['text']\n",
        "y2 = validation['label']"
      ],
      "metadata": {
        "id": "yqU0z8mz-eX1"
      },
      "execution_count": 12,
      "outputs": []
    },
    {
      "cell_type": "markdown",
      "source": [
        "TfidfVectorizer weights the word counts by a measure of how often they appear in the dataset."
      ],
      "metadata": {
        "id": "5_Vur9hKtWx-"
      }
    },
    {
      "cell_type": "code",
      "source": [
        "from sklearn.feature_extraction.text import TfidfVectorizer\n",
        "vectorization = TfidfVectorizer()\n",
        "xv_train = vectorization.fit_transform(x)\n",
        "xv_test = vectorization.transform(x2)"
      ],
      "metadata": {
        "id": "kz3ZRzKd8Uar"
      },
      "execution_count": 13,
      "outputs": []
    },
    {
      "cell_type": "markdown",
      "source": [
        "# **Train Logistic Regression model**"
      ],
      "metadata": {
        "id": "C2WSwDZFuM6Q"
      }
    },
    {
      "cell_type": "code",
      "source": [
        "from sklearn.linear_model import LogisticRegression\n",
        "LR = LogisticRegression()\n",
        "LR.fit(xv_train, y)"
      ],
      "metadata": {
        "colab": {
          "base_uri": "https://localhost:8080/",
          "height": 220
        },
        "id": "yOakHHDr8UYJ",
        "outputId": "68cbe73f-11f0-484a-bf8b-da4a48cb2822"
      },
      "execution_count": 14,
      "outputs": [
        {
          "output_type": "stream",
          "name": "stderr",
          "text": [
            "/usr/local/lib/python3.10/dist-packages/sklearn/linear_model/_logistic.py:458: ConvergenceWarning: lbfgs failed to converge (status=1):\n",
            "STOP: TOTAL NO. of ITERATIONS REACHED LIMIT.\n",
            "\n",
            "Increase the number of iterations (max_iter) or scale the data as shown in:\n",
            "    https://scikit-learn.org/stable/modules/preprocessing.html\n",
            "Please also refer to the documentation for alternative solver options:\n",
            "    https://scikit-learn.org/stable/modules/linear_model.html#logistic-regression\n",
            "  n_iter_i = _check_optimize_result(\n"
          ]
        },
        {
          "output_type": "execute_result",
          "data": {
            "text/plain": [
              "LogisticRegression()"
            ],
            "text/html": [
              "<style>#sk-container-id-1 {color: black;background-color: white;}#sk-container-id-1 pre{padding: 0;}#sk-container-id-1 div.sk-toggleable {background-color: white;}#sk-container-id-1 label.sk-toggleable__label {cursor: pointer;display: block;width: 100%;margin-bottom: 0;padding: 0.3em;box-sizing: border-box;text-align: center;}#sk-container-id-1 label.sk-toggleable__label-arrow:before {content: \"▸\";float: left;margin-right: 0.25em;color: #696969;}#sk-container-id-1 label.sk-toggleable__label-arrow:hover:before {color: black;}#sk-container-id-1 div.sk-estimator:hover label.sk-toggleable__label-arrow:before {color: black;}#sk-container-id-1 div.sk-toggleable__content {max-height: 0;max-width: 0;overflow: hidden;text-align: left;background-color: #f0f8ff;}#sk-container-id-1 div.sk-toggleable__content pre {margin: 0.2em;color: black;border-radius: 0.25em;background-color: #f0f8ff;}#sk-container-id-1 input.sk-toggleable__control:checked~div.sk-toggleable__content {max-height: 200px;max-width: 100%;overflow: auto;}#sk-container-id-1 input.sk-toggleable__control:checked~label.sk-toggleable__label-arrow:before {content: \"▾\";}#sk-container-id-1 div.sk-estimator input.sk-toggleable__control:checked~label.sk-toggleable__label {background-color: #d4ebff;}#sk-container-id-1 div.sk-label input.sk-toggleable__control:checked~label.sk-toggleable__label {background-color: #d4ebff;}#sk-container-id-1 input.sk-hidden--visually {border: 0;clip: rect(1px 1px 1px 1px);clip: rect(1px, 1px, 1px, 1px);height: 1px;margin: -1px;overflow: hidden;padding: 0;position: absolute;width: 1px;}#sk-container-id-1 div.sk-estimator {font-family: monospace;background-color: #f0f8ff;border: 1px dotted black;border-radius: 0.25em;box-sizing: border-box;margin-bottom: 0.5em;}#sk-container-id-1 div.sk-estimator:hover {background-color: #d4ebff;}#sk-container-id-1 div.sk-parallel-item::after {content: \"\";width: 100%;border-bottom: 1px solid gray;flex-grow: 1;}#sk-container-id-1 div.sk-label:hover label.sk-toggleable__label {background-color: #d4ebff;}#sk-container-id-1 div.sk-serial::before {content: \"\";position: absolute;border-left: 1px solid gray;box-sizing: border-box;top: 0;bottom: 0;left: 50%;z-index: 0;}#sk-container-id-1 div.sk-serial {display: flex;flex-direction: column;align-items: center;background-color: white;padding-right: 0.2em;padding-left: 0.2em;position: relative;}#sk-container-id-1 div.sk-item {position: relative;z-index: 1;}#sk-container-id-1 div.sk-parallel {display: flex;align-items: stretch;justify-content: center;background-color: white;position: relative;}#sk-container-id-1 div.sk-item::before, #sk-container-id-1 div.sk-parallel-item::before {content: \"\";position: absolute;border-left: 1px solid gray;box-sizing: border-box;top: 0;bottom: 0;left: 50%;z-index: -1;}#sk-container-id-1 div.sk-parallel-item {display: flex;flex-direction: column;z-index: 1;position: relative;background-color: white;}#sk-container-id-1 div.sk-parallel-item:first-child::after {align-self: flex-end;width: 50%;}#sk-container-id-1 div.sk-parallel-item:last-child::after {align-self: flex-start;width: 50%;}#sk-container-id-1 div.sk-parallel-item:only-child::after {width: 0;}#sk-container-id-1 div.sk-dashed-wrapped {border: 1px dashed gray;margin: 0 0.4em 0.5em 0.4em;box-sizing: border-box;padding-bottom: 0.4em;background-color: white;}#sk-container-id-1 div.sk-label label {font-family: monospace;font-weight: bold;display: inline-block;line-height: 1.2em;}#sk-container-id-1 div.sk-label-container {text-align: center;}#sk-container-id-1 div.sk-container {/* jupyter's `normalize.less` sets `[hidden] { display: none; }` but bootstrap.min.css set `[hidden] { display: none !important; }` so we also need the `!important` here to be able to override the default hidden behavior on the sphinx rendered scikit-learn.org. See: https://github.com/scikit-learn/scikit-learn/issues/21755 */display: inline-block !important;position: relative;}#sk-container-id-1 div.sk-text-repr-fallback {display: none;}</style><div id=\"sk-container-id-1\" class=\"sk-top-container\"><div class=\"sk-text-repr-fallback\"><pre>LogisticRegression()</pre><b>In a Jupyter environment, please rerun this cell to show the HTML representation or trust the notebook. <br />On GitHub, the HTML representation is unable to render, please try loading this page with nbviewer.org.</b></div><div class=\"sk-container\" hidden><div class=\"sk-item\"><div class=\"sk-estimator sk-toggleable\"><input class=\"sk-toggleable__control sk-hidden--visually\" id=\"sk-estimator-id-1\" type=\"checkbox\" checked><label for=\"sk-estimator-id-1\" class=\"sk-toggleable__label sk-toggleable__label-arrow\">LogisticRegression</label><div class=\"sk-toggleable__content\"><pre>LogisticRegression()</pre></div></div></div></div></div>"
            ]
          },
          "metadata": {},
          "execution_count": 14
        }
      ]
    },
    {
      "cell_type": "code",
      "source": [
        "# Make predictions on the test set\n",
        "pred_lr = LR.predict(xv_test)\n",
        "\n",
        "# Calculate accuracy\n",
        "accuracy = accuracy_score(y2, pred_lr)\n",
        "print(\"Logistic Regression Model Accuracy: \", accuracy, \"\\n\")\n",
        "\n",
        "# Print classification report\n",
        "print(\"Classification Report: \\n\")\n",
        "print(classification_report(y2, pred_lr))"
      ],
      "metadata": {
        "colab": {
          "base_uri": "https://localhost:8080/"
        },
        "id": "tp8EnvU2TU2y",
        "outputId": "5606ab5e-4dfc-49c8-cc27-c14b45de0072"
      },
      "execution_count": 15,
      "outputs": [
        {
          "output_type": "stream",
          "name": "stdout",
          "text": [
            "Logistic Regression Model Accuracy:  0.8595 \n",
            "\n",
            "Classification Report: \n",
            "\n",
            "              precision    recall  f1-score   support\n",
            "\n",
            "           0       0.86      0.94      0.90       550\n",
            "           1       0.84      0.95      0.89       704\n",
            "           2       0.89      0.61      0.72       178\n",
            "           3       0.91      0.81      0.86       275\n",
            "           4       0.86      0.73      0.79       212\n",
            "           5       0.85      0.58      0.69        81\n",
            "\n",
            "    accuracy                           0.86      2000\n",
            "   macro avg       0.87      0.77      0.81      2000\n",
            "weighted avg       0.86      0.86      0.85      2000\n",
            "\n"
          ]
        }
      ]
    },
    {
      "cell_type": "markdown",
      "source": [
        "We get an accuracy of 86% using logistic regression."
      ],
      "metadata": {
        "id": "B1E4LIdtuT8A"
      }
    },
    {
      "cell_type": "markdown",
      "source": [
        "# **Train Decision Tree model**"
      ],
      "metadata": {
        "id": "2P84DJRZua-B"
      }
    },
    {
      "cell_type": "code",
      "source": [
        "from sklearn.tree import DecisionTreeClassifier\n",
        "DT = DecisionTreeClassifier()\n",
        "DT.fit(xv_train, y)"
      ],
      "metadata": {
        "colab": {
          "base_uri": "https://localhost:8080/",
          "height": 74
        },
        "id": "8ECcx66t8UTn",
        "outputId": "2dc27965-74f4-4f84-b296-a05b98247d04"
      },
      "execution_count": 16,
      "outputs": [
        {
          "output_type": "execute_result",
          "data": {
            "text/plain": [
              "DecisionTreeClassifier()"
            ],
            "text/html": [
              "<style>#sk-container-id-2 {color: black;background-color: white;}#sk-container-id-2 pre{padding: 0;}#sk-container-id-2 div.sk-toggleable {background-color: white;}#sk-container-id-2 label.sk-toggleable__label {cursor: pointer;display: block;width: 100%;margin-bottom: 0;padding: 0.3em;box-sizing: border-box;text-align: center;}#sk-container-id-2 label.sk-toggleable__label-arrow:before {content: \"▸\";float: left;margin-right: 0.25em;color: #696969;}#sk-container-id-2 label.sk-toggleable__label-arrow:hover:before {color: black;}#sk-container-id-2 div.sk-estimator:hover label.sk-toggleable__label-arrow:before {color: black;}#sk-container-id-2 div.sk-toggleable__content {max-height: 0;max-width: 0;overflow: hidden;text-align: left;background-color: #f0f8ff;}#sk-container-id-2 div.sk-toggleable__content pre {margin: 0.2em;color: black;border-radius: 0.25em;background-color: #f0f8ff;}#sk-container-id-2 input.sk-toggleable__control:checked~div.sk-toggleable__content {max-height: 200px;max-width: 100%;overflow: auto;}#sk-container-id-2 input.sk-toggleable__control:checked~label.sk-toggleable__label-arrow:before {content: \"▾\";}#sk-container-id-2 div.sk-estimator input.sk-toggleable__control:checked~label.sk-toggleable__label {background-color: #d4ebff;}#sk-container-id-2 div.sk-label input.sk-toggleable__control:checked~label.sk-toggleable__label {background-color: #d4ebff;}#sk-container-id-2 input.sk-hidden--visually {border: 0;clip: rect(1px 1px 1px 1px);clip: rect(1px, 1px, 1px, 1px);height: 1px;margin: -1px;overflow: hidden;padding: 0;position: absolute;width: 1px;}#sk-container-id-2 div.sk-estimator {font-family: monospace;background-color: #f0f8ff;border: 1px dotted black;border-radius: 0.25em;box-sizing: border-box;margin-bottom: 0.5em;}#sk-container-id-2 div.sk-estimator:hover {background-color: #d4ebff;}#sk-container-id-2 div.sk-parallel-item::after {content: \"\";width: 100%;border-bottom: 1px solid gray;flex-grow: 1;}#sk-container-id-2 div.sk-label:hover label.sk-toggleable__label {background-color: #d4ebff;}#sk-container-id-2 div.sk-serial::before {content: \"\";position: absolute;border-left: 1px solid gray;box-sizing: border-box;top: 0;bottom: 0;left: 50%;z-index: 0;}#sk-container-id-2 div.sk-serial {display: flex;flex-direction: column;align-items: center;background-color: white;padding-right: 0.2em;padding-left: 0.2em;position: relative;}#sk-container-id-2 div.sk-item {position: relative;z-index: 1;}#sk-container-id-2 div.sk-parallel {display: flex;align-items: stretch;justify-content: center;background-color: white;position: relative;}#sk-container-id-2 div.sk-item::before, #sk-container-id-2 div.sk-parallel-item::before {content: \"\";position: absolute;border-left: 1px solid gray;box-sizing: border-box;top: 0;bottom: 0;left: 50%;z-index: -1;}#sk-container-id-2 div.sk-parallel-item {display: flex;flex-direction: column;z-index: 1;position: relative;background-color: white;}#sk-container-id-2 div.sk-parallel-item:first-child::after {align-self: flex-end;width: 50%;}#sk-container-id-2 div.sk-parallel-item:last-child::after {align-self: flex-start;width: 50%;}#sk-container-id-2 div.sk-parallel-item:only-child::after {width: 0;}#sk-container-id-2 div.sk-dashed-wrapped {border: 1px dashed gray;margin: 0 0.4em 0.5em 0.4em;box-sizing: border-box;padding-bottom: 0.4em;background-color: white;}#sk-container-id-2 div.sk-label label {font-family: monospace;font-weight: bold;display: inline-block;line-height: 1.2em;}#sk-container-id-2 div.sk-label-container {text-align: center;}#sk-container-id-2 div.sk-container {/* jupyter's `normalize.less` sets `[hidden] { display: none; }` but bootstrap.min.css set `[hidden] { display: none !important; }` so we also need the `!important` here to be able to override the default hidden behavior on the sphinx rendered scikit-learn.org. See: https://github.com/scikit-learn/scikit-learn/issues/21755 */display: inline-block !important;position: relative;}#sk-container-id-2 div.sk-text-repr-fallback {display: none;}</style><div id=\"sk-container-id-2\" class=\"sk-top-container\"><div class=\"sk-text-repr-fallback\"><pre>DecisionTreeClassifier()</pre><b>In a Jupyter environment, please rerun this cell to show the HTML representation or trust the notebook. <br />On GitHub, the HTML representation is unable to render, please try loading this page with nbviewer.org.</b></div><div class=\"sk-container\" hidden><div class=\"sk-item\"><div class=\"sk-estimator sk-toggleable\"><input class=\"sk-toggleable__control sk-hidden--visually\" id=\"sk-estimator-id-2\" type=\"checkbox\" checked><label for=\"sk-estimator-id-2\" class=\"sk-toggleable__label sk-toggleable__label-arrow\">DecisionTreeClassifier</label><div class=\"sk-toggleable__content\"><pre>DecisionTreeClassifier()</pre></div></div></div></div></div>"
            ]
          },
          "metadata": {},
          "execution_count": 16
        }
      ]
    },
    {
      "cell_type": "code",
      "source": [
        "pred_dt = DT.predict(xv_test)\n",
        "DT.score (xv_test, y2)\n",
        "print(\"Decision Tree Model Accuracy: \", accuracy_score(y2, pred_dt), \"\\n\")\n",
        "print(\"Classification Report: \\n\")\n",
        "print(classification_report (y2, pred_dt))"
      ],
      "metadata": {
        "colab": {
          "base_uri": "https://localhost:8080/"
        },
        "id": "Rg1gTW2F8URU",
        "outputId": "0e20bf65-54c8-4907-8ee7-3aff2e84885f"
      },
      "execution_count": 17,
      "outputs": [
        {
          "output_type": "stream",
          "name": "stdout",
          "text": [
            "Decision Tree Model Accuracy:  0.8605 \n",
            "\n",
            "Classification Report: \n",
            "\n",
            "              precision    recall  f1-score   support\n",
            "\n",
            "           0       0.88      0.88      0.88       550\n",
            "           1       0.89      0.88      0.89       704\n",
            "           2       0.77      0.77      0.77       178\n",
            "           3       0.85      0.87      0.86       275\n",
            "           4       0.81      0.84      0.82       212\n",
            "           5       0.81      0.70      0.75        81\n",
            "\n",
            "    accuracy                           0.86      2000\n",
            "   macro avg       0.84      0.83      0.83      2000\n",
            "weighted avg       0.86      0.86      0.86      2000\n",
            "\n"
          ]
        }
      ]
    },
    {
      "cell_type": "markdown",
      "source": [
        "We get an accuracy of 86% using decision tree."
      ],
      "metadata": {
        "id": "Fp3ZluuMukoo"
      }
    },
    {
      "cell_type": "markdown",
      "source": [
        "# **Perform stemming**"
      ],
      "metadata": {
        "id": "gM8pM9OyutNG"
      }
    },
    {
      "cell_type": "markdown",
      "source": [
        "Stemming is a technique used to reduce an inflected word down to its word stem."
      ],
      "metadata": {
        "id": "yjOg5SWqu-bu"
      }
    },
    {
      "cell_type": "code",
      "source": [
        "all_list = train['text'].tolist() + test['text'].tolist() + validation['text'].tolist()"
      ],
      "metadata": {
        "id": "E3ZGfHKr-eUc"
      },
      "execution_count": 18,
      "outputs": []
    },
    {
      "cell_type": "code",
      "source": [
        "tokenizer1 = Tokenizer()\n",
        "tokenizer1.fit_on_texts(all_list)\n",
        "word_index1 = tokenizer1.word_index\n",
        "\n",
        "print(\"Number of words without Stemming:\",len(word_index1))\n",
        "\n",
        "stemmer = PorterStemmer()\n",
        "stemmed_words = [stemmer.stem(word) for word in word_index1.keys()]\n",
        "\n",
        "tokenizer2 = Tokenizer()\n",
        "tokenizer2.fit_on_texts(stemmed_words)\n",
        "word_index2 = tokenizer2.word_index\n",
        "\n",
        "print(\"Number of words with Stemming:\",len(word_index2))"
      ],
      "metadata": {
        "colab": {
          "base_uri": "https://localhost:8080/"
        },
        "id": "0u9ZN6Lj8UJ1",
        "outputId": "4c7072b6-f610-4bd7-ad95-224edddbb172"
      },
      "execution_count": 19,
      "outputs": [
        {
          "output_type": "stream",
          "name": "stdout",
          "text": [
            "Number of words without Stemming: 17096\n",
            "Number of words with Stemming: 11705\n"
          ]
        }
      ]
    },
    {
      "cell_type": "code",
      "source": [
        "def preprocess_data(data):\n",
        "    new_data = []\n",
        "    for index, row in data.iterrows():\n",
        "        test_split = row['text'].split()\n",
        "        stemmed_words2 = [stemmer.stem(word) for word in test_split]\n",
        "        token_list= tokenizer2.texts_to_sequences([stemmed_words2])[0]\n",
        "        new_data.append([token_list,row['label']])\n",
        "    return new_data"
      ],
      "metadata": {
        "id": "Y5_03SQC8UHP"
      },
      "execution_count": 20,
      "outputs": []
    },
    {
      "cell_type": "code",
      "source": [
        "new_train_data = preprocess_data(train)\n",
        "print(train['text'][0])\n",
        "print(new_train_data[0])"
      ],
      "metadata": {
        "colab": {
          "base_uri": "https://localhost:8080/"
        },
        "id": "1ijNk5S6FN92",
        "outputId": "587d728f-5532-4f4e-a736-6c26c9bb66f1"
      },
      "execution_count": 21,
      "outputs": [
        {
          "output_type": "stream",
          "name": "stdout",
          "text": [
            "i didnt feel humiliated\n",
            "[[3198, 3265, 220, 665], 0]\n"
          ]
        }
      ]
    },
    {
      "cell_type": "code",
      "source": [
        "new_val_data = preprocess_data(validation)\n",
        "print(validation['text'][0])\n",
        "print(new_val_data[0])"
      ],
      "metadata": {
        "colab": {
          "base_uri": "https://localhost:8080/"
        },
        "id": "CQnI9QAWFX1i",
        "outputId": "236bde32-3d82-46dc-e0a2-fdfdee4d837f"
      },
      "execution_count": 22,
      "outputs": [
        {
          "output_type": "stream",
          "name": "stdout",
          "text": [
            "im feeling quite sad and sorry for myself but ill snap out of it soon\n",
            "[[3205, 220, 595, 1335, 3199, 3326, 3206, 3227, 3207, 1326, 518, 1283, 1274, 1276, 3380], 0]\n"
          ]
        }
      ]
    },
    {
      "cell_type": "code",
      "source": [
        "# Splitting into train_X and train_y\n",
        "train_X = [row[0] for row in new_train_data]\n",
        "train_y = [row[1] for row in new_train_data]\n",
        "\n",
        "# Print the results\n",
        "print(\"train_X:\", train_X[0])\n",
        "print(\"train_y:\", train_y[0])"
      ],
      "metadata": {
        "colab": {
          "base_uri": "https://localhost:8080/"
        },
        "id": "qOP4RztkFgXs",
        "outputId": "234a590e-edda-45c7-bfb5-58865da93a05"
      },
      "execution_count": 23,
      "outputs": [
        {
          "output_type": "stream",
          "name": "stdout",
          "text": [
            "train_X: [3198, 3265, 220, 665]\n",
            "train_y: 0\n"
          ]
        }
      ]
    },
    {
      "cell_type": "code",
      "source": [
        "val_X = [row[0] for row in new_val_data]\n",
        "val_y = [row[1] for row in new_val_data]\n",
        "\n",
        "print(\"train_X:\", val_X[0])\n",
        "print(\"train_y:\", val_y[0])"
      ],
      "metadata": {
        "colab": {
          "base_uri": "https://localhost:8080/"
        },
        "id": "PvV1-CfMFnUU",
        "outputId": "316b014e-3de7-4668-d5ac-d3d33eb20b7b"
      },
      "execution_count": 24,
      "outputs": [
        {
          "output_type": "stream",
          "name": "stdout",
          "text": [
            "train_X: [3205, 220, 595, 1335, 3199, 3326, 3206, 3227, 3207, 1326, 518, 1283, 1274, 1276, 3380]\n",
            "train_y: 0\n"
          ]
        }
      ]
    },
    {
      "cell_type": "markdown",
      "source": [
        "# **Calculate the length of the longest sentence in the dataset**"
      ],
      "metadata": {
        "id": "Zd8xuGl6vEd1"
      }
    },
    {
      "cell_type": "code",
      "source": [
        "length_of_longest_sentence = len(max(train_X, key=len))\n",
        "print(length_of_longest_sentence)\n",
        "print(max(train_X, key=len))"
      ],
      "metadata": {
        "colab": {
          "base_uri": "https://localhost:8080/"
        },
        "id": "mj7JGtRQF6ic",
        "outputId": "532729fd-b4d1-49f7-bf92-9325cbc7ea40"
      },
      "execution_count": 25,
      "outputs": [
        {
          "output_type": "stream",
          "name": "stdout",
          "text": [
            "66\n",
            "[3198, 613, 3250, 3588, 3217, 3204, 3198, 927, 3245, 1497, 3245, 1354, 3217, 3245, 1303, 1296, 3200, 2107, 1284, 1276, 3220, 220, 3598, 3213, 220, 1276, 3528, 3217, 7890, 4263, 3221, 5569, 1552, 3243, 3198, 4263, 3221, 1552, 5570, 5570, 3198, 3579, 5569, 3198, 7891, 1276, 3200, 3202, 1293, 3219, 1401, 3948, 3598, 3213, 3223, 239, 3528, 3213, 85, 3267, 579, 1658, 3206, 3201, 239, 1289]\n"
          ]
        }
      ]
    },
    {
      "cell_type": "code",
      "source": [
        "for i in range(len(train_X)):\n",
        "    for j in range(length_of_longest_sentence-len(train_X[i])):\n",
        "        train_X[i].append(0)\n",
        "\n",
        "for i in range(len(val_X)):\n",
        "    for j in range(length_of_longest_sentence-len(val_X[i])):\n",
        "        val_X[i].append(0)"
      ],
      "metadata": {
        "id": "NP4ngIIXF9zm"
      },
      "execution_count": 26,
      "outputs": []
    },
    {
      "cell_type": "code",
      "source": [
        "train_X = np.array(train_X)\n",
        "train_y = np.array(train_y)\n",
        "val_X = np.array(val_X)\n",
        "val_y = np.array(val_y)\n",
        "\n",
        "print(train_X.shape,train_y.shape)\n",
        "print(val_X.shape,val_y.shape)"
      ],
      "metadata": {
        "colab": {
          "base_uri": "https://localhost:8080/"
        },
        "id": "4BWK-6YDGA8-",
        "outputId": "12925713-def5-4972-be30-c8804db315b7"
      },
      "execution_count": 27,
      "outputs": [
        {
          "output_type": "stream",
          "name": "stdout",
          "text": [
            "(16000, 66) (16000,)\n",
            "(2000, 66) (2000,)\n"
          ]
        }
      ]
    },
    {
      "cell_type": "code",
      "source": [
        "# Convert labels to one-hot encoding\n",
        "train_y_one_hot = to_categorical(train_y, num_classes=16000)\n",
        "val_y_one_hot = to_categorical(val_y, num_classes=16000)"
      ],
      "metadata": {
        "id": "5vDNe5JAGEHL"
      },
      "execution_count": 28,
      "outputs": []
    },
    {
      "cell_type": "markdown",
      "source": [
        "to_categorical is a utility function which allows us to convert integer targets into categorical and hence one-hot encoded ones."
      ],
      "metadata": {
        "id": "4OmK2p3rwEwE"
      }
    },
    {
      "cell_type": "markdown",
      "source": [
        "# **Train LSTM model**"
      ],
      "metadata": {
        "id": "h9HL1lMKwS5x"
      }
    },
    {
      "cell_type": "code",
      "source": [
        "model = Sequential()\n",
        "model.add(Embedding(16000, 100, input_length=66))\n",
        "model.add(Bidirectional(LSTM(150)))\n",
        "model.add(Dense(16000, activation='softmax'))\n",
        "adam = Adam(learning_rate=0.01)  # Replace lr with learning_rate\n",
        "model.compile(loss='categorical_crossentropy', optimizer=adam, metrics=['accuracy'])\n",
        "history = model.fit(train_X, train_y_one_hot, epochs=25, verbose=1, validation_data=(val_X, val_y_one_hot))\n",
        "#print model.summary()\n",
        "print(model)"
      ],
      "metadata": {
        "colab": {
          "base_uri": "https://localhost:8080/"
        },
        "id": "asrtlTIDGHYF",
        "outputId": "cdf6e341-b95f-4db5-9ebc-6d24afbd0c29"
      },
      "execution_count": 29,
      "outputs": [
        {
          "output_type": "stream",
          "name": "stdout",
          "text": [
            "Epoch 1/25\n",
            "500/500 [==============================] - 247s 481ms/step - loss: 1.7706 - accuracy: 0.2993 - val_loss: 1.6287 - val_accuracy: 0.2750\n",
            "Epoch 2/25\n",
            "500/500 [==============================] - 176s 353ms/step - loss: 1.6375 - accuracy: 0.3174 - val_loss: 1.6334 - val_accuracy: 0.3525\n",
            "Epoch 3/25\n",
            "500/500 [==============================] - 240s 480ms/step - loss: 1.6057 - accuracy: 0.3215 - val_loss: 1.5741 - val_accuracy: 0.3515\n",
            "Epoch 4/25\n",
            "500/500 [==============================] - 181s 363ms/step - loss: 1.5354 - accuracy: 0.3451 - val_loss: 1.4276 - val_accuracy: 0.3715\n",
            "Epoch 5/25\n",
            "500/500 [==============================] - 190s 379ms/step - loss: 1.2177 - accuracy: 0.4977 - val_loss: 1.0742 - val_accuracy: 0.6055\n",
            "Epoch 6/25\n",
            "500/500 [==============================] - 175s 351ms/step - loss: 0.9276 - accuracy: 0.6416 - val_loss: 0.8754 - val_accuracy: 0.6485\n",
            "Epoch 7/25\n",
            "500/500 [==============================] - 175s 351ms/step - loss: 0.7689 - accuracy: 0.7015 - val_loss: 0.7148 - val_accuracy: 0.7485\n",
            "Epoch 8/25\n",
            "500/500 [==============================] - 169s 338ms/step - loss: 0.5929 - accuracy: 0.7982 - val_loss: 0.6156 - val_accuracy: 0.7820\n",
            "Epoch 9/25\n",
            "500/500 [==============================] - 167s 335ms/step - loss: 0.5193 - accuracy: 0.8236 - val_loss: 0.5645 - val_accuracy: 0.8085\n",
            "Epoch 10/25\n",
            "500/500 [==============================] - 168s 335ms/step - loss: 0.4360 - accuracy: 0.8551 - val_loss: 0.5154 - val_accuracy: 0.8370\n",
            "Epoch 11/25\n",
            "500/500 [==============================] - 173s 345ms/step - loss: 0.3919 - accuracy: 0.8709 - val_loss: 0.5007 - val_accuracy: 0.8410\n",
            "Epoch 12/25\n",
            "500/500 [==============================] - 167s 334ms/step - loss: 0.3682 - accuracy: 0.8782 - val_loss: 0.5309 - val_accuracy: 0.8350\n",
            "Epoch 13/25\n",
            "500/500 [==============================] - 167s 333ms/step - loss: 0.3677 - accuracy: 0.8780 - val_loss: 0.4841 - val_accuracy: 0.8515\n",
            "Epoch 14/25\n",
            "500/500 [==============================] - 164s 329ms/step - loss: 0.3462 - accuracy: 0.8857 - val_loss: 0.4518 - val_accuracy: 0.8530\n",
            "Epoch 15/25\n",
            "500/500 [==============================] - 171s 343ms/step - loss: 0.3332 - accuracy: 0.8899 - val_loss: 0.4946 - val_accuracy: 0.8405\n",
            "Epoch 16/25\n",
            "500/500 [==============================] - 175s 350ms/step - loss: 0.3114 - accuracy: 0.8931 - val_loss: 0.4855 - val_accuracy: 0.8460\n",
            "Epoch 17/25\n",
            "500/500 [==============================] - 176s 351ms/step - loss: 0.3005 - accuracy: 0.8970 - val_loss: 0.5102 - val_accuracy: 0.8490\n",
            "Epoch 18/25\n",
            "500/500 [==============================] - 175s 351ms/step - loss: 0.2879 - accuracy: 0.9012 - val_loss: 0.4579 - val_accuracy: 0.8565\n",
            "Epoch 19/25\n",
            "500/500 [==============================] - 176s 351ms/step - loss: 0.2663 - accuracy: 0.9083 - val_loss: 0.4803 - val_accuracy: 0.8510\n",
            "Epoch 20/25\n",
            "500/500 [==============================] - 175s 350ms/step - loss: 0.2614 - accuracy: 0.9106 - val_loss: 0.4779 - val_accuracy: 0.8540\n",
            "Epoch 21/25\n",
            "500/500 [==============================] - 166s 332ms/step - loss: 0.2520 - accuracy: 0.9083 - val_loss: 0.4493 - val_accuracy: 0.8565\n",
            "Epoch 22/25\n",
            "500/500 [==============================] - 170s 340ms/step - loss: 0.2473 - accuracy: 0.9118 - val_loss: 0.4636 - val_accuracy: 0.8580\n",
            "Epoch 23/25\n",
            "500/500 [==============================] - 173s 347ms/step - loss: 0.2452 - accuracy: 0.9132 - val_loss: 0.4907 - val_accuracy: 0.8505\n",
            "Epoch 24/25\n",
            "500/500 [==============================] - 172s 344ms/step - loss: 0.2522 - accuracy: 0.9113 - val_loss: 0.4663 - val_accuracy: 0.8555\n",
            "Epoch 25/25\n",
            "500/500 [==============================] - 166s 332ms/step - loss: 0.2483 - accuracy: 0.9147 - val_loss: 0.4706 - val_accuracy: 0.8555\n",
            "<keras.src.engine.sequential.Sequential object at 0x7a80006f30a0>\n"
          ]
        }
      ]
    },
    {
      "cell_type": "markdown",
      "source": [
        "# **Calculate the accuracy of LSTM model**"
      ],
      "metadata": {
        "id": "aFnzKzlywXv6"
      }
    },
    {
      "cell_type": "code",
      "source": [
        "last_accuracy = \"{:.3f}\".format(history.history['accuracy'][-1])\n",
        "print(\"Training Accuracy:\", last_accuracy)"
      ],
      "metadata": {
        "colab": {
          "base_uri": "https://localhost:8080/"
        },
        "id": "QgRQpsTF4F1n",
        "outputId": "081b9faa-d737-4871-b491-e3f9c74b8a72"
      },
      "execution_count": 30,
      "outputs": [
        {
          "output_type": "stream",
          "name": "stdout",
          "text": [
            "Training Accuracy: 0.915\n"
          ]
        }
      ]
    },
    {
      "cell_type": "markdown",
      "source": [
        "ACCURACY GRAPH"
      ],
      "metadata": {
        "id": "xEfIW3p-wfoH"
      }
    },
    {
      "cell_type": "code",
      "source": [
        "plt.plot(history.history['accuracy'])\n",
        "plt.plot(history.history['val_accuracy'])\n",
        "plt.title('Training Accuracy vs Validation Accuracy')\n",
        "plt.ylabel('Accuracy')\n",
        "plt.xlabel('Epoch')\n",
        "plt.legend(['Train', 'Validation'], loc='upper left')\n",
        "plt.show()"
      ],
      "metadata": {
        "colab": {
          "base_uri": "https://localhost:8080/",
          "height": 472
        },
        "id": "c9fn_IBO4LeJ",
        "outputId": "f18fa2d1-5acb-4ebd-c942-fd9b99346977"
      },
      "execution_count": 31,
      "outputs": [
        {
          "output_type": "display_data",
          "data": {
            "text/plain": [
              "<Figure size 640x480 with 1 Axes>"
            ],
            "image/png": "[encoded data removed]"
          },
          "metadata": {}
        }
      ]
    },
    {
      "cell_type": "markdown",
      "source": [
        "LOSS GRAPH"
      ],
      "metadata": {
        "id": "kSyzzWOBwkHs"
      }
    },
    {
      "cell_type": "code",
      "source": [
        "plt.plot(history.history['loss'])\n",
        "plt.plot(history.history['val_loss'])\n",
        "plt.title('Training Loss vs Validation Loss')\n",
        "plt.ylabel('Loss')\n",
        "plt.xlabel('Epoch')\n",
        "plt.legend(['Train', 'Validation'], loc='upper left')\n",
        "plt.show()"
      ],
      "metadata": {
        "colab": {
          "base_uri": "https://localhost:8080/",
          "height": 472
        },
        "id": "-8dG6c0N4Um9",
        "outputId": "3b2dcf8e-d69f-430e-d156-45d5b3eb0b47"
      },
      "execution_count": 32,
      "outputs": [
        {
          "output_type": "display_data",
          "data": {
            "text/plain": [
              "<Figure size 640x480 with 1 Axes>"
            ],
            "image/png": "[encoded data removed]"
          },
          "metadata": {}
        }
      ]
    },
    {
      "cell_type": "markdown",
      "source": [
        "# **Saving the LSTM model and tokenizer**"
      ],
      "metadata": {
        "id": "1iUNNYBYxXDS"
      }
    },
    {
      "cell_type": "code",
      "source": [
        "#from keras.models import load_model\n",
        "\n",
        "model.save('model.h5')  # creates a HDF5 file 'my_model.h5'\n",
        "\n",
        "    # returns a compiled model\n",
        "    # identical to the previous one\n",
        "#model = load_model('model.h5')"
      ],
      "metadata": {
        "id": "oNE0_mxLbhwZ",
        "colab": {
          "base_uri": "https://localhost:8080/"
        },
        "outputId": "4be152f0-c018-4f1f-ce4e-87ab90c6224e"
      },
      "execution_count": 53,
      "outputs": [
        {
          "output_type": "stream",
          "name": "stderr",
          "text": [
            "/usr/local/lib/python3.10/dist-packages/keras/src/engine/training.py:3103: UserWarning: You are saving your model as an HDF5 file via `model.save()`. This file format is considered legacy. We recommend using instead the native Keras format, e.g. `model.save('my_model.keras')`.\n",
            "  saving_api.save_model(\n"
          ]
        }
      ]
    },
    {
      "cell_type": "code",
      "source": [
        "import io, json\n",
        "tokenizer_json = tokenizer2.to_json()\n",
        "with io.open('tokenizer.json', 'w', encoding='utf-8') as f:\n",
        "    f.write(json.dumps(tokenizer_json, ensure_ascii=False))"
      ],
      "metadata": {
        "id": "KzaiPA79eQ8B"
      },
      "execution_count": 54,
      "outputs": []
    }
  ]
}